{
 "cells": [
  {
   "cell_type": "code",
   "execution_count": 1,
   "id": "initial_id",
   "metadata": {
    "collapsed": true,
    "ExecuteTime": {
     "end_time": "2024-03-31T06:44:29.615940Z",
     "start_time": "2024-03-31T06:44:28.646359Z"
    }
   },
   "outputs": [],
   "source": [
    "import torch\n",
    "import torch.nn as nn\n",
    "import torch.optim as optim"
   ]
  },
  {
   "cell_type": "code",
   "outputs": [],
   "source": [
    "class LSTMRecommendationModel(nn.Module):\n",
    "    def __init__(self, num_users, num_items, embedding_dim, hidden_dim):\n",
    "        super(LSTMRecommendationModel, self).__init__()\n",
    "        self.num_users = num_users\n",
    "        self.num_items = num_items\n",
    "        self.embedding_dim = embedding_dim\n",
    "        self.hidden_dim = hidden_dim\n",
    "        \n",
    "        # Item Embedding layer\n",
    "        self.item_embedding = nn.Embedding(num_items, embedding_dim)\n",
    "        \n",
    "        # LSTM Layer\n",
    "        self.lstm = nn.LSTM(embedding_dim, hidden_dim,batch_first=True)\n",
    "        \n",
    "        # Outlet Layer\n",
    "        self.output_layer = nn.Linear(hidden_dim, num_items)\n",
    "        \n",
    "    def forward(self, sequences):\n",
    "        # Input: sequences of user-item interactins\n",
    "        embedded_sequences = self.item_embedding(sequences)\n",
    "        \n",
    "        # LSTM forward pass\n",
    "        lstm_out, _ = self.lstm(embedded_sequences)\n",
    "        \n",
    "        # output layer\n",
    "        output = self.output_layer(lstm_out[:, -1, :]) # Taking the last timestep's output\n",
    "        return output"
   ],
   "metadata": {
    "collapsed": false,
    "ExecuteTime": {
     "end_time": "2024-03-31T06:44:29.620165Z",
     "start_time": "2024-03-31T06:44:29.617011Z"
    }
   },
   "id": "bfef77b8db45854c",
   "execution_count": 2
  },
  {
   "cell_type": "code",
   "outputs": [],
   "source": [
    "num_users = 5\n",
    "num_items = 6\n",
    "embedding_dim = 32\n",
    "hidden_dim = 64"
   ],
   "metadata": {
    "collapsed": false,
    "ExecuteTime": {
     "end_time": "2024-03-31T06:44:29.623332Z",
     "start_time": "2024-03-31T06:44:29.621170Z"
    }
   },
   "id": "5045fb7d52e059d3",
   "execution_count": 3
  },
  {
   "cell_type": "code",
   "outputs": [],
   "source": [
    "interaction_matrix = torch.tensor([[1, 0, 1, 0, 0, 1],\n",
    "                                   [0, 1, 0, 1, 0, 0],\n",
    "                                   [1, 0, 0, 0, 1, 0],\n",
    "                                   [0, 1, 1, 0, 1, 0],\n",
    "                                   [0, 0, 0, 1, 0, 1]])"
   ],
   "metadata": {
    "collapsed": false,
    "ExecuteTime": {
     "end_time": "2024-03-31T06:44:29.629536Z",
     "start_time": "2024-03-31T06:44:29.624400Z"
    }
   },
   "id": "f3d65f00304ce2c5",
   "execution_count": 4
  },
  {
   "cell_type": "code",
   "outputs": [],
   "source": [
    "sequences = interaction_matrix.unsqueeze(0) # Add batch dimension\n",
    "sequences = sequences.unsqueeze(-1)\n",
    "sequences = interaction_matrix"
   ],
   "metadata": {
    "collapsed": false,
    "ExecuteTime": {
     "end_time": "2024-03-31T06:44:29.634574Z",
     "start_time": "2024-03-31T06:44:29.630554Z"
    }
   },
   "id": "10cc48b2a8ef454e",
   "execution_count": 5
  },
  {
   "cell_type": "code",
   "outputs": [],
   "source": [
    "model = LSTMRecommendationModel(num_users, num_items, embedding_dim, hidden_dim)\n"
   ],
   "metadata": {
    "collapsed": false,
    "ExecuteTime": {
     "end_time": "2024-03-31T06:44:29.641770Z",
     "start_time": "2024-03-31T06:44:29.635471Z"
    }
   },
   "id": "d9647d60927bc59c",
   "execution_count": 6
  },
  {
   "cell_type": "code",
   "outputs": [],
   "source": [
    "output = model(sequences)"
   ],
   "metadata": {
    "collapsed": false,
    "ExecuteTime": {
     "end_time": "2024-03-31T06:44:29.686390Z",
     "start_time": "2024-03-31T06:44:29.642689Z"
    }
   },
   "id": "497df78539a26b21",
   "execution_count": 7
  },
  {
   "cell_type": "code",
   "outputs": [
    {
     "name": "stdout",
     "output_type": "stream",
     "text": [
      "tensor([[-0.1601,  0.0408,  0.1101, -0.1443,  0.0295, -0.0782],\n",
      "        [-0.0757, -0.0250,  0.1054, -0.1724,  0.0217, -0.1243],\n",
      "        [-0.0933,  0.0025,  0.1084, -0.1748,  0.0088, -0.1182],\n",
      "        [-0.1099,  0.0263,  0.1068, -0.1647, -0.0022, -0.1180],\n",
      "        [-0.1664,  0.0552,  0.1132, -0.1447,  0.0256, -0.0736]],\n",
      "       grad_fn=<AddmmBackward0>)\n"
     ]
    }
   ],
   "source": [
    "print(output)"
   ],
   "metadata": {
    "collapsed": false,
    "ExecuteTime": {
     "end_time": "2024-03-31T06:44:29.696921Z",
     "start_time": "2024-03-31T06:44:29.687370Z"
    }
   },
   "id": "3ddf028efbdde26a",
   "execution_count": 8
  },
  {
   "cell_type": "code",
   "outputs": [],
   "source": [
    "# Define loss functoin and optimizer\n",
    "criterion = nn.CrossEntropyLoss()\n",
    "optimizer = optim.SGD(model.parameters(), lr=0.1)"
   ],
   "metadata": {
    "collapsed": false,
    "ExecuteTime": {
     "end_time": "2024-03-31T06:44:30.131950Z",
     "start_time": "2024-03-31T06:44:29.697996Z"
    }
   },
   "id": "5aff40fdf063b1fe",
   "execution_count": 9
  },
  {
   "cell_type": "code",
   "outputs": [
    {
     "name": "stdout",
     "output_type": "stream",
     "text": [
      "Epoch [10/100], Loss: 1.6554\n",
      "Epoch [20/100], Loss: 1.5348\n",
      "Epoch [30/100], Loss: 1.4116\n",
      "Epoch [40/100], Loss: 1.2831\n",
      "Epoch [50/100], Loss: 1.1620\n",
      "Epoch [60/100], Loss: 1.0555\n",
      "Epoch [70/100], Loss: 0.9580\n",
      "Epoch [80/100], Loss: 0.8605\n",
      "Epoch [90/100], Loss: 0.7601\n",
      "Epoch [100/100], Loss: 0.6574\n"
     ]
    }
   ],
   "source": [
    "# Trainig loop\n",
    "num_epochs = 100\n",
    "for epoch in range(num_epochs):\n",
    "    # Forward pass\n",
    "    outputs = model(sequences)\n",
    "    \n",
    "    # Compute loss\n",
    "    loss = criterion(outputs.squeeze(), torch.tensor([0,1,2,3,4]))\n",
    "    \n",
    "    # Backward pass and optimization\n",
    "    optimizer.zero_grad()\n",
    "    loss.backward()\n",
    "    optimizer.step()\n",
    "    \n",
    "    # Print progress\n",
    "    if (epoch + 1) % 10 == 0:\n",
    "        print(f'Epoch [{epoch+1}/{num_epochs}], Loss: {loss.item():.4f}')"
   ],
   "metadata": {
    "collapsed": false,
    "ExecuteTime": {
     "end_time": "2024-03-31T06:45:13.136833Z",
     "start_time": "2024-03-31T06:45:12.945456Z"
    }
   },
   "id": "bc273c1375339e79",
   "execution_count": 11
  },
  {
   "cell_type": "code",
   "outputs": [],
   "source": [
    "def generate_recommendation(model, user_id, num_items_to_recommend=3, popularity_items=None):\n",
    "    interaction_matrix = torch.tensor([[1, 0, 1, 0, 0, 1],  # Sample interaction matrix\n",
    "                                       [0, 1, 0, 1, 0, 0],\n",
    "                                       [1, 0, 0, 0, 1, 0],\n",
    "                                       [0, 1, 1, 0, 1, 0],\n",
    "                                       [0, 0, 0, 1, 0, 1]])\n",
    "    \n",
    "    if user_id >= len(interaction_matrix):\n",
    "        # Handle cold start for new users by providing popularity-based recommendations\n",
    "        if popularity_items is None:\n",
    "            raise ValueError(\"Popularity items list must be provided for cold start handling.\")\n",
    "        return popularity_items[:num_items_to_recommend]\n",
    "    \n",
    "    user_sequence = interaction_matrix[user_id].unsqueeze(0)\n",
    "    \n",
    "    # forward pass through the model to get predictions\n",
    "    with torch.no_grad():\n",
    "        predictions = model(user_sequence)\n",
    "        \n",
    "    # Convert predictions to probabilities using softmax\n",
    "    probabilities = torch.softmax(predictions, dim=1)\n",
    "    \n",
    "    # Get top recommended items\n",
    "    _, top_indices = torch.topk(probabilities, num_items_to_recommend, dim=1)\n",
    "    \n",
    "    # convert indeices to item IDs\n",
    "    top_item_ids = top_indices.squeeze().tolist()\n",
    "    return top_item_ids"
   ],
   "metadata": {
    "collapsed": false,
    "ExecuteTime": {
     "end_time": "2024-03-31T07:42:59.266067Z",
     "start_time": "2024-03-31T07:42:59.261745Z"
    }
   },
   "id": "2dc1aeea6d20e8c2",
   "execution_count": 21
  },
  {
   "cell_type": "code",
   "outputs": [
    {
     "name": "stdout",
     "output_type": "stream",
     "text": [
      "Recommended items for user 0: [0, 4, 3]\n",
      "Recommended items for user 1: [1, 2, 3]\n",
      "Recommended items for user 2: [2, 1, 3]\n",
      "Recommended items for user 3: [3, 2, 1]\n",
      "Recommended items for user 10: [0, 1, 2]\n"
     ]
    }
   ],
   "source": [
    "# Example usage:\n",
    "# Load the trained model (already trained in the previous example)\n",
    "# model = LSTMRecommendationModel(num_users, num_items, embedding_dim, hidden_dim)\n",
    "# model.load_state_dict(torch.load('lstm_recommendation_model.pth'))  # Load saved model state\n",
    "\n",
    "# Sample popularity-based items list (for cold start handling)\n",
    "popularity_items = [0, 1, 2, 3]\n",
    "\n",
    "# Generate recommendations for user 0\n",
    "user_id = [0,1,2,3,10]\n",
    "for user in user_id:\n",
    "    recommended_items = generate_recommendation(model, user, popularity_items=popularity_items)\n",
    "    print(f\"Recommended items for user {user}: {recommended_items}\")"
   ],
   "metadata": {
    "collapsed": false,
    "ExecuteTime": {
     "end_time": "2024-03-31T07:43:06.225224Z",
     "start_time": "2024-03-31T07:43:06.217259Z"
    }
   },
   "id": "668a54fca8c6d5c5",
   "execution_count": 23
  },
  {
   "cell_type": "code",
   "outputs": [],
   "source": [
    "def train_model(model, train_data, criterion, optimizer, num_epochs=10):\n",
    "    # Set the model to training mode\n",
    "    model.train()\n",
    "    \n",
    "    for epoch in range(num_epochs):\n",
    "        epoch_loss = 0.0\n",
    "        \n",
    "        # Iterate over the training data\n",
    "        for sequences, targets in train_data:\n",
    "            # Forward pass\n",
    "            outputs = model(sequences)\n",
    "            \n",
    "            # Compute the loss\n",
    "            loss = criterion(outputs, targets)\n",
    "            \n",
    "            # Backward pass and optimization\n",
    "            optimizer.zero_grad()\n",
    "            loss.backward()\n",
    "            optimizer.step()\n",
    "            \n",
    "            # Accumulate the loss for the epoch\n",
    "            epoch_loss += loss.item()\n",
    "        \n",
    "        # Calculate average epoch loss\n",
    "        avg_epoch_loss = epoch_loss / len(train_data)\n",
    "        \n",
    "        # Print epoch loss\n",
    "        print(f'Epoch [{epoch+1}/{num_epochs}], Loss: {avg_epoch_loss:.4f}')"
   ],
   "metadata": {
    "collapsed": false,
    "ExecuteTime": {
     "end_time": "2024-03-31T09:42:51.810143Z",
     "start_time": "2024-03-31T09:42:51.806717Z"
    }
   },
   "id": "8a110bd54ae1fa5e",
   "execution_count": 24
  },
  {
   "cell_type": "code",
   "outputs": [
    {
     "name": "stdout",
     "output_type": "stream",
     "text": [
      "Input sequence: tensor([[1, 0, 1, 0, 0]])\n",
      "Target item: tensor([1])\n"
     ]
    }
   ],
   "source": [
    "from torch.utils.data import Dataset, DataLoader\n",
    "\n",
    "# Define a custom dataset class to represent the training data\n",
    "class RecommendationDataset(Dataset):\n",
    "    def __init__(self, interaction_matrix):\n",
    "        self.interaction_matrix = interaction_matrix\n",
    "    \n",
    "    def __len__(self):\n",
    "        return len(self.interaction_matrix)\n",
    "    \n",
    "    def __getitem__(self, idx):\n",
    "        user_sequence = self.interaction_matrix[idx]\n",
    "        target_item = user_sequence[-1]  # Target is the last item in the sequence\n",
    "        input_sequence = user_sequence[:-1]  # Input sequence excludes the target item\n",
    "        return input_sequence, target_item\n",
    "\n",
    "# Example interaction matrix (user-item interaction data)\n",
    "interaction_matrix = torch.tensor([[1, 0, 1, 0, 0, 1],\n",
    "                                   [0, 1, 0, 1, 0, 0],\n",
    "                                   [1, 0, 0, 0, 1, 0],\n",
    "                                   [0, 1, 1, 0, 1, 0],\n",
    "                                   [0, 0, 0, 1, 0, 1]])\n",
    "\n",
    "# Create an instance of the custom dataset\n",
    "train_dataset = RecommendationDataset(interaction_matrix)\n",
    "\n",
    "# Define the DataLoader to iterate over batches of data\n",
    "train_loader = DataLoader(train_dataset, batch_size=1, shuffle=True)\n",
    "\n",
    "# Sample usage of train_loader\n",
    "for input_sequence, target_item in train_loader:\n",
    "    print(\"Input sequence:\", input_sequence)\n",
    "    print(\"Target item:\", target_item)\n",
    "    break  # Print only the first batch"
   ],
   "metadata": {
    "collapsed": false,
    "ExecuteTime": {
     "end_time": "2024-03-31T09:47:51.856640Z",
     "start_time": "2024-03-31T09:47:51.849822Z"
    }
   },
   "id": "97b42da57a5eb73a",
   "execution_count": 25
  },
  {
   "cell_type": "code",
   "outputs": [
    {
     "name": "stdout",
     "output_type": "stream",
     "text": [
      "Epoch [1/10], Loss: 1.2362\n",
      "Epoch [2/10], Loss: 0.6799\n",
      "Epoch [3/10], Loss: 0.4424\n",
      "Epoch [4/10], Loss: 0.5855\n",
      "Epoch [5/10], Loss: 0.3185\n",
      "Epoch [6/10], Loss: 0.3068\n",
      "Epoch [7/10], Loss: 0.2591\n",
      "Epoch [8/10], Loss: 0.2916\n",
      "Epoch [9/10], Loss: 0.1757\n",
      "Epoch [10/10], Loss: 0.1258\n"
     ]
    }
   ],
   "source": [
    "train_model(model, train_loader, criterion, optimizer, num_epochs=10)"
   ],
   "metadata": {
    "collapsed": false,
    "ExecuteTime": {
     "end_time": "2024-03-31T09:48:18.320965Z",
     "start_time": "2024-03-31T09:48:18.245147Z"
    }
   },
   "id": "2876a3a5b5993674",
   "execution_count": 26
  },
  {
   "cell_type": "code",
   "outputs": [],
   "source": [],
   "metadata": {
    "collapsed": false
   },
   "id": "b3b742fae210cfca"
  }
 ],
 "metadata": {
  "kernelspec": {
   "display_name": "Python 3",
   "language": "python",
   "name": "python3"
  },
  "language_info": {
   "codemirror_mode": {
    "name": "ipython",
    "version": 2
   },
   "file_extension": ".py",
   "mimetype": "text/x-python",
   "name": "python",
   "nbconvert_exporter": "python",
   "pygments_lexer": "ipython2",
   "version": "2.7.6"
  }
 },
 "nbformat": 4,
 "nbformat_minor": 5
}
