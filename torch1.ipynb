{
 "cells": [
  {
   "cell_type": "code",
   "execution_count": 2,
   "id": "initial_id",
   "metadata": {
    "collapsed": true,
    "ExecuteTime": {
     "end_time": "2024-03-20T06:45:28.302602611Z",
     "start_time": "2024-03-20T06:45:27.139794054Z"
    }
   },
   "outputs": [],
   "source": [
    "import torch"
   ]
  },
  {
   "cell_type": "code",
   "execution_count": 3,
   "outputs": [],
   "source": [
    "y = torch.randn(1,2,3,4,5)"
   ],
   "metadata": {
    "collapsed": false,
    "ExecuteTime": {
     "end_time": "2024-03-20T06:45:28.348767055Z",
     "start_time": "2024-03-20T06:45:28.346634209Z"
    }
   },
   "id": "c5ed86fc69d74515"
  },
  {
   "cell_type": "code",
   "execution_count": 4,
   "outputs": [
    {
     "data": {
      "text/plain": "tensor([[[[[-0.4282,  0.4043, -0.9953, -0.2275, -0.1200],\n           [ 2.6781, -0.8968,  0.4485,  0.1502,  0.8516],\n           [-0.1083,  1.3658,  0.8352,  1.1738, -0.1001],\n           [ 1.5774, -1.8878,  0.4312,  0.0223,  0.2824]],\n\n          [[-1.2293,  1.9760,  0.4780,  0.6657, -0.5549],\n           [-0.9505,  0.2913, -0.5655,  2.5966,  0.5871],\n           [ 0.3739,  0.4964, -0.4747,  0.1672,  0.1898],\n           [ 0.8763,  0.4812,  0.7825, -1.7117, -0.4068]],\n\n          [[ 0.1461, -0.4601,  1.4377,  0.6058,  1.3637],\n           [ 0.1906,  1.3104,  0.7365, -0.5459,  1.4490],\n           [ 0.8056, -1.2001, -0.3611, -0.4439,  0.9365],\n           [ 0.3555, -2.1266,  0.4892, -1.1445, -0.2398]]],\n\n\n         [[[ 1.0539, -2.0284,  0.2636,  1.2923,  0.0606],\n           [-1.1127,  2.3315,  1.5068, -0.5791, -0.1083],\n           [-0.6148,  0.5422, -0.6424,  0.4080, -2.8211],\n           [ 0.1479,  0.5152, -1.5036, -0.1921, -0.1605]],\n\n          [[ 1.1691, -0.1385,  1.9223,  0.7965, -0.4338],\n           [-0.7061, -0.8925, -0.8441,  0.1864,  0.1051],\n           [-0.4309, -1.1201,  0.9931,  0.3053,  0.8279],\n           [ 1.0065,  0.1574, -0.1896,  1.4934,  2.5920]],\n\n          [[-0.3937, -0.3137,  0.9418,  0.1738,  1.6284],\n           [-0.1741,  0.6114,  0.1817,  0.5173,  1.0566],\n           [ 0.6210, -0.4317, -1.2041,  0.3235,  1.5665],\n           [ 0.8608, -2.1965,  0.7935,  1.1929, -3.0618]]]]])"
     },
     "execution_count": 4,
     "metadata": {},
     "output_type": "execute_result"
    }
   ],
   "source": [
    "y"
   ],
   "metadata": {
    "collapsed": false,
    "ExecuteTime": {
     "end_time": "2024-03-20T06:45:28.381438614Z",
     "start_time": "2024-03-20T06:45:28.347340544Z"
    }
   },
   "id": "db8b4b0458f8dce0"
  },
  {
   "cell_type": "code",
   "execution_count": 5,
   "outputs": [
    {
     "data": {
      "text/plain": "tensor([[0., 0., 0., 0.],\n        [0., 0., 0., 0.],\n        [0., 0., 0., 0.],\n        [0., 0., 0., 0.]])"
     },
     "execution_count": 5,
     "metadata": {},
     "output_type": "execute_result"
    }
   ],
   "source": [
    "y = torch.zeros(4,4)\n",
    "y"
   ],
   "metadata": {
    "collapsed": false,
    "ExecuteTime": {
     "end_time": "2024-03-20T06:45:28.383309955Z",
     "start_time": "2024-03-20T06:45:28.348123261Z"
    }
   },
   "id": "be253bcf4baef814"
  },
  {
   "cell_type": "code",
   "execution_count": 6,
   "outputs": [],
   "source": [
    "x = [34,23,78,44,23]\n"
   ],
   "metadata": {
    "collapsed": false,
    "ExecuteTime": {
     "end_time": "2024-03-20T06:45:28.384639124Z",
     "start_time": "2024-03-20T06:45:28.348787585Z"
    }
   },
   "id": "71756e22cc59fe9e"
  },
  {
   "cell_type": "code",
   "execution_count": 7,
   "outputs": [
    {
     "data": {
      "text/plain": "array([34, 23, 78, 44, 23])"
     },
     "execution_count": 7,
     "metadata": {},
     "output_type": "execute_result"
    }
   ],
   "source": [
    "import numpy as np\n",
    "x1 = np.array(x)\n",
    "x1"
   ],
   "metadata": {
    "collapsed": false,
    "ExecuteTime": {
     "end_time": "2024-03-20T06:45:28.386987365Z",
     "start_time": "2024-03-20T06:45:28.349296156Z"
    }
   },
   "id": "c4f272fc883d9af1"
  },
  {
   "cell_type": "code",
   "execution_count": 8,
   "outputs": [
    {
     "data": {
      "text/plain": "tensor([34, 23, 78, 44, 23])"
     },
     "execution_count": 8,
     "metadata": {},
     "output_type": "execute_result"
    }
   ],
   "source": [
    "torch.from_numpy(x1)"
   ],
   "metadata": {
    "collapsed": false,
    "ExecuteTime": {
     "end_time": "2024-03-20T06:45:28.388584397Z",
     "start_time": "2024-03-20T06:45:28.355719037Z"
    }
   },
   "id": "54555cdb5843f673"
  },
  {
   "cell_type": "code",
   "execution_count": 9,
   "outputs": [],
   "source": [
    "y = torch.randn(2,2)"
   ],
   "metadata": {
    "collapsed": false,
    "ExecuteTime": {
     "end_time": "2024-03-20T06:45:28.389486337Z",
     "start_time": "2024-03-20T06:45:28.356702232Z"
    }
   },
   "id": "8466bf3a9340ab65"
  },
  {
   "cell_type": "code",
   "execution_count": 10,
   "outputs": [
    {
     "data": {
      "text/plain": "tensor([[0.9703, 0.6790],\n        [1.0825, 0.9171]])"
     },
     "execution_count": 10,
     "metadata": {},
     "output_type": "execute_result"
    }
   ],
   "source": [
    "torch.exp(y)"
   ],
   "metadata": {
    "collapsed": false,
    "ExecuteTime": {
     "end_time": "2024-03-20T06:45:28.391112080Z",
     "start_time": "2024-03-20T06:45:28.357415075Z"
    }
   },
   "id": "f6a5707f5106703e"
  },
  {
   "cell_type": "code",
   "execution_count": 11,
   "outputs": [
    {
     "data": {
      "text/plain": "tensor([[-0.1117, -0.4966,  0.1631, -0.8817],\n        [ 0.0539,  0.6684, -0.0597, -0.4675],\n        [-0.2153,  0.8840, -0.7584, -0.3689],\n        [-0.3424, -1.4020,  0.3206, -1.0219]])"
     },
     "execution_count": 11,
     "metadata": {},
     "output_type": "execute_result"
    }
   ],
   "source": [
    "torch.manual_seed(1234)\n",
    "torch.randn(4,4)"
   ],
   "metadata": {
    "collapsed": false,
    "ExecuteTime": {
     "end_time": "2024-03-20T06:45:28.400651309Z",
     "start_time": "2024-03-20T06:45:28.358641511Z"
    }
   },
   "id": "d2a4eb08565cdb82"
  },
  {
   "cell_type": "code",
   "execution_count": 12,
   "outputs": [
    {
     "data": {
      "text/plain": "tensor([[0.2837, 0.6567, 0.2388, 0.7313],\n        [0.6012, 0.3043, 0.2548, 0.6294],\n        [0.9665, 0.7399, 0.4517, 0.4757],\n        [0.7842, 0.1525, 0.6662, 0.3343]])"
     },
     "execution_count": 12,
     "metadata": {},
     "output_type": "execute_result"
    }
   ],
   "source": [
    "torch.Tensor(4,4).uniform_(0,1)"
   ],
   "metadata": {
    "collapsed": false,
    "ExecuteTime": {
     "end_time": "2024-03-20T06:45:28.401984500Z",
     "start_time": "2024-03-20T06:45:28.361396353Z"
    }
   },
   "id": "8c5f24c0f5fa561e"
  },
  {
   "cell_type": "code",
   "execution_count": 13,
   "outputs": [],
   "source": [
    "if torch.cuda.is_available():\n",
    "    device = torch.device('cuda')\n",
    "    x = torch.ones(5, device=device)\n",
    "    y=torch.ones(5)\n",
    "    y = y.to(device)\n",
    "    z = x + y\n",
    "    z = z.to(\"cpu\")"
   ],
   "metadata": {
    "collapsed": false,
    "ExecuteTime": {
     "end_time": "2024-03-20T06:45:28.515216559Z",
     "start_time": "2024-03-20T06:45:28.369221686Z"
    }
   },
   "id": "f05b2f67d3f06a29"
  },
  {
   "cell_type": "code",
   "execution_count": 13,
   "outputs": [],
   "source": [],
   "metadata": {
    "collapsed": false,
    "ExecuteTime": {
     "end_time": "2024-03-20T06:45:28.516083262Z",
     "start_time": "2024-03-20T06:45:28.372780133Z"
    }
   },
   "id": "9be6e37ab6b104db"
  }
 ],
 "metadata": {
  "kernelspec": {
   "display_name": "Python 3",
   "language": "python",
   "name": "python3"
  },
  "language_info": {
   "codemirror_mode": {
    "name": "ipython",
    "version": 2
   },
   "file_extension": ".py",
   "mimetype": "text/x-python",
   "name": "python",
   "nbconvert_exporter": "python",
   "pygments_lexer": "ipython2",
   "version": "2.7.6"
  }
 },
 "nbformat": 4,
 "nbformat_minor": 5
}
