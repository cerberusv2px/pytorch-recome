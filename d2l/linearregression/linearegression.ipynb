{
 "cells": [
  {
   "cell_type": "code",
   "execution_count": 1,
   "id": "initial_id",
   "metadata": {
    "collapsed": true,
    "ExecuteTime": {
     "end_time": "2024-03-25T06:55:33.270967Z",
     "start_time": "2024-03-25T06:55:32.179249Z"
    }
   },
   "outputs": [],
   "source": [
    "%matplotlib inline\n",
    "import torch\n",
    "import torch.nn as nn\n",
    "import numpy as np\n",
    "import matplotlib.pyplot as plt"
   ]
  },
  {
   "cell_type": "code",
   "execution_count": 2,
   "outputs": [],
   "source": [
    "class LinearRegression(nn.Module):\n",
    "    def __init__(self, input_dim, output_dim):\n",
    "        super(LinearRegression, self).__init__()\n",
    "        self.linear = nn.Linear(input_dim, output_dim)\n",
    "        \n",
    "    def forward(self, x: torch.Tensor):\n",
    "        return self.linear(x)"
   ],
   "metadata": {
    "collapsed": false,
    "ExecuteTime": {
     "end_time": "2024-03-25T07:02:36.682679Z",
     "start_time": "2024-03-25T07:02:36.679858Z"
    }
   },
   "id": "8971745f353eab08"
  },
  {
   "cell_type": "code",
   "outputs": [
    {
     "data": {
      "text/plain": "(array([[ 4.96714153],\n        [-1.38264301],\n        [ 6.47688538],\n        [15.23029856],\n        [-2.34153375],\n        [-2.34136957],\n        [15.79212816],\n        [ 7.67434729],\n        [-4.69474386],\n        [ 5.42560044]]),\n array([[12.00744767],\n        [-0.69674553],\n        [16.43769531],\n        [29.63403664],\n        [-5.13290316],\n        [-2.8073142 ],\n        [32.55859407],\n        [18.97718925],\n        [-8.20553587],\n        [11.02659347]]))"
     },
     "execution_count": 6,
     "metadata": {},
     "output_type": "execute_result"
    }
   ],
   "source": [
    "# Generate random data for demonstration\n",
    "np.random.seed(42)\n",
    "X = np.random.randn(10,1) * 10\n",
    "y = 2 * X + 3 + np.random.randn(10,1) * 2\n",
    "X,y"
   ],
   "metadata": {
    "collapsed": false,
    "ExecuteTime": {
     "end_time": "2024-03-25T07:04:22.328923Z",
     "start_time": "2024-03-25T07:04:22.322082Z"
    }
   },
   "id": "624357ff450a5acc",
   "execution_count": 6
  },
  {
   "cell_type": "code",
   "outputs": [
    {
     "data": {
      "text/plain": "(tensor([[ 4.9671],\n         [-1.3826],\n         [ 6.4769],\n         [15.2303],\n         [-2.3415],\n         [-2.3414],\n         [15.7921],\n         [ 7.6743],\n         [-4.6947],\n         [ 5.4256]]),\n tensor([[12.0074],\n         [-0.6967],\n         [16.4377],\n         [29.6340],\n         [-5.1329],\n         [-2.8073],\n         [32.5586],\n         [18.9772],\n         [-8.2055],\n         [11.0266]]))"
     },
     "execution_count": 7,
     "metadata": {},
     "output_type": "execute_result"
    }
   ],
   "source": [
    "X_tensor = torch.from_numpy(X.astype(np.float32))\n",
    "y_tensor = torch.from_numpy(y.astype(np.float32))\n",
    "X_tensor, y_tensor"
   ],
   "metadata": {
    "collapsed": false,
    "ExecuteTime": {
     "end_time": "2024-03-25T07:05:19.606449Z",
     "start_time": "2024-03-25T07:05:19.585819Z"
    }
   },
   "id": "861a7e9c844f772c",
   "execution_count": 7
  },
  {
   "cell_type": "markdown",
   "source": [
    "Define the model"
   ],
   "metadata": {
    "collapsed": false
   },
   "id": "450e46b8645ae05b"
  },
  {
   "cell_type": "code",
   "outputs": [],
   "source": [
    "input_dim = 1\n",
    "output_dim = 1\n",
    "model = LinearRegression(input_dim, output_dim)"
   ],
   "metadata": {
    "collapsed": false,
    "ExecuteTime": {
     "end_time": "2024-03-25T07:06:02.371864Z",
     "start_time": "2024-03-25T07:06:02.368475Z"
    }
   },
   "id": "26194f1cbce7d4b",
   "execution_count": 8
  },
  {
   "cell_type": "markdown",
   "source": [
    "# Define loss function and optimizer\n",
    "criterion = nn.MSELoss():\n",
    "\n",
    "nn.MSELoss() creates an instance of the Mean Squared Error (MSE) loss function provided by PyTorch.\n",
    "The Mean Squared Error loss is commonly used in regression problems, including linear regression. It calculates the mean squared difference between the predicted values and the true values.\n",
    "When training a neural network for regression tasks like linear regression, the goal is to minimize this loss function, as it quantifies the discrepancy between the predicted output and the actual target values.\n",
    "\n",
    "optimizer = torch.optim.SGD(model.parameters(), lr=0.01):\n",
    "\n",
    "torch.optim.SGD() creates an instance of the stochastic gradient descent (SGD) optimizer provided by PyTorch.\n",
    "Stochastic Gradient Descent is a popular optimization algorithm used to minimize the loss function during training.\n",
    "model.parameters() returns an iterable containing all the parameters (weights and biases) of the model. These parameters are what the optimizer will update during training to minimize the loss.\n",
    "lr=0.01 specifies the learning rate, which is a hyperparameter controlling the size of the step the optimizer takes while updating the model parameters. It determines the speed and convergence of the optimization process.\n",
    "In summary, this line initializes the SGD optimizer to update the parameters of the model using stochastic gradient descent with a learning rate of 0.01 during training. The optimizer adjusts the parameters to minimize the loss computed by the mean squared error loss function (criterion)."
   ],
   "metadata": {
    "collapsed": false
   },
   "id": "8b32c2c7664341dd"
  },
  {
   "cell_type": "code",
   "outputs": [],
   "source": [
    "criterion = nn.MSELoss()\n",
    "optimizer = torch.optim.SGD(model.parameters(), lr=0.01)"
   ],
   "metadata": {
    "collapsed": false,
    "ExecuteTime": {
     "end_time": "2024-03-25T09:28:42.593528Z",
     "start_time": "2024-03-25T09:28:42.586055Z"
    }
   },
   "id": "8824abebde4bd8b3",
   "execution_count": 10
  },
  {
   "cell_type": "markdown",
   "source": [],
   "metadata": {
    "collapsed": false
   },
   "id": "f9c898f2cd638b50"
  },
  {
   "cell_type": "code",
   "outputs": [
    {
     "name": "stdout",
     "output_type": "stream",
     "text": [
      "Epoch [10/100], Loss: 3.4370\n",
      "Epoch [20/100], Loss: 3.0919\n",
      "Epoch [30/100], Loss: 2.8314\n",
      "Epoch [40/100], Loss: 2.6348\n",
      "Epoch [50/100], Loss: 2.4863\n",
      "Epoch [60/100], Loss: 2.3742\n",
      "Epoch [70/100], Loss: 2.2895\n",
      "Epoch [80/100], Loss: 2.2256\n",
      "Epoch [90/100], Loss: 2.1774\n",
      "Epoch [100/100], Loss: 2.1410\n"
     ]
    }
   ],
   "source": [
    "num_epochs = 100\n",
    "for epoch in range(num_epochs):\n",
    "    # forward pass\n",
    "    outputs = model(X_tensor)\n",
    "    loss = criterion(outputs, y_tensor)\n",
    "    \n",
    "    # backward pass and optimization\n",
    "    optimizer.zero_grad()\n",
    "    loss.backward()\n",
    "    optimizer.step()\n",
    "    \n",
    "    if (epoch +1) % 10 == 0:\n",
    "        print(f'Epoch [{epoch+1}/{num_epochs}], Loss: {loss.item():.4f}')\n",
    "        \n",
    "\n",
    "    "
   ],
   "metadata": {
    "collapsed": false,
    "ExecuteTime": {
     "end_time": "2024-03-25T09:33:43.491513Z",
     "start_time": "2024-03-25T09:33:43.440577Z"
    }
   },
   "id": "bae9ce9f5855845b",
   "execution_count": 11
  },
  {
   "cell_type": "code",
   "outputs": [
    {
     "data": {
      "text/plain": "<Figure size 640x480 with 1 Axes>",
      "image/png": "[encoded data removed]"
     },
     "metadata": {},
     "output_type": "display_data"
    }
   ],
   "source": [
    "predicted = model(X_tensor).detach().numpy()\n",
    "plt.scatter(X, y, label='Original data')\n",
    "plt.plot(X, predicted, 'r-', label='Fitted line')\n",
    "plt.legend()\n",
    "plt.show()"
   ],
   "metadata": {
    "collapsed": false,
    "ExecuteTime": {
     "end_time": "2024-03-25T09:34:28.489033Z",
     "start_time": "2024-03-25T09:34:28.341910Z"
    }
   },
   "id": "cab37d6212449264",
   "execution_count": 12
  },
  {
   "cell_type": "code",
   "outputs": [
    {
     "name": "stdout",
     "output_type": "stream",
     "text": [
      "[[3.131132 ]\n",
      " [5.1346545]\n",
      " [7.138177 ]]\n"
     ]
    }
   ],
   "source": [
    "new_data = torch.tensor([[1.0],[2.0],[3.0]])\n",
    "with torch.no_grad():\n",
    "    predicted_values = model(new_data)\n",
    "    \n",
    "p_v_numpy = predicted_values.numpy()\n",
    "print(p_v_numpy)"
   ],
   "metadata": {
    "collapsed": false,
    "ExecuteTime": {
     "end_time": "2024-03-25T09:45:07.677009Z",
     "start_time": "2024-03-25T09:45:07.673009Z"
    }
   },
   "id": "38985394838bc29b",
   "execution_count": 14
  },
  {
   "cell_type": "code",
   "outputs": [],
   "source": [],
   "metadata": {
    "collapsed": false
   },
   "id": "bb31b2fceb3c3d3a"
  }
 ],
 "metadata": {
  "kernelspec": {
   "display_name": "Python 3",
   "language": "python",
   "name": "python3"
  },
  "language_info": {
   "codemirror_mode": {
    "name": "ipython",
    "version": 2
   },
   "file_extension": ".py",
   "mimetype": "text/x-python",
   "name": "python",
   "nbconvert_exporter": "python",
   "pygments_lexer": "ipython2",
   "version": "2.7.6"
  }
 },
 "nbformat": 4,
 "nbformat_minor": 5
}
