{
 "cells": [
  {
   "cell_type": "code",
   "execution_count": 1,
   "id": "initial_id",
   "metadata": {
    "collapsed": true,
    "ExecuteTime": {
     "end_time": "2024-03-23T09:35:33.016498900Z",
     "start_time": "2024-03-23T09:35:32.280398830Z"
    }
   },
   "outputs": [],
   "source": [
    "import torch"
   ]
  },
  {
   "cell_type": "code",
   "execution_count": 8,
   "outputs": [
    {
     "data": {
      "text/plain": "tensor([ 0.,  1.,  2.,  3.,  4.,  5.,  6.,  7.,  8.,  9., 10., 11.])"
     },
     "execution_count": 8,
     "metadata": {},
     "output_type": "execute_result"
    }
   ],
   "source": [
    "x = torch.arange(12,dtype=torch.float32)\n",
    "x"
   ],
   "metadata": {
    "collapsed": false,
    "ExecuteTime": {
     "end_time": "2024-03-23T09:37:59.322665990Z",
     "start_time": "2024-03-23T09:37:59.309633004Z"
    }
   },
   "id": "bad13a751c2f8cbe"
  },
  {
   "cell_type": "code",
   "execution_count": 9,
   "outputs": [
    {
     "data": {
      "text/plain": "12"
     },
     "execution_count": 9,
     "metadata": {},
     "output_type": "execute_result"
    }
   ],
   "source": [
    "x.numel()"
   ],
   "metadata": {
    "collapsed": false,
    "ExecuteTime": {
     "end_time": "2024-03-23T09:41:25.056215624Z",
     "start_time": "2024-03-23T09:41:25.012446860Z"
    }
   },
   "id": "f59f5766d2d7d5c4"
  },
  {
   "cell_type": "code",
   "execution_count": 10,
   "outputs": [
    {
     "data": {
      "text/plain": "torch.Size([12])"
     },
     "execution_count": 10,
     "metadata": {},
     "output_type": "execute_result"
    }
   ],
   "source": [
    "x.shape"
   ],
   "metadata": {
    "collapsed": false,
    "ExecuteTime": {
     "end_time": "2024-03-23T09:41:34.800086550Z",
     "start_time": "2024-03-23T09:41:34.756789121Z"
    }
   },
   "id": "69d3755b9de2cc59"
  },
  {
   "cell_type": "code",
   "execution_count": 12,
   "outputs": [
    {
     "data": {
      "text/plain": "tensor([[ 0.,  1.,  2.,  3.],\n        [ 4.,  5.,  6.,  7.],\n        [ 8.,  9., 10., 11.]])"
     },
     "execution_count": 12,
     "metadata": {},
     "output_type": "execute_result"
    }
   ],
   "source": [
    "X = x.reshape(3,4)\n",
    "X"
   ],
   "metadata": {
    "collapsed": false,
    "ExecuteTime": {
     "end_time": "2024-03-23T09:41:59.074296268Z",
     "start_time": "2024-03-23T09:41:59.069324722Z"
    }
   },
   "id": "14cde42e9743b79f"
  },
  {
   "cell_type": "code",
   "execution_count": 14,
   "outputs": [
    {
     "data": {
      "text/plain": "tensor([[[0., 0., 0., 0.],\n         [0., 0., 0., 0.],\n         [0., 0., 0., 0.]],\n\n        [[0., 0., 0., 0.],\n         [0., 0., 0., 0.],\n         [0., 0., 0., 0.]]])"
     },
     "execution_count": 14,
     "metadata": {},
     "output_type": "execute_result"
    }
   ],
   "source": [
    "torch.zeros(2,3,4)"
   ],
   "metadata": {
    "collapsed": false,
    "ExecuteTime": {
     "end_time": "2024-03-23T09:42:26.626974359Z",
     "start_time": "2024-03-23T09:42:26.621906597Z"
    }
   },
   "id": "7da2a66781313417"
  },
  {
   "cell_type": "code",
   "execution_count": 15,
   "outputs": [
    {
     "data": {
      "text/plain": "tensor([[1., 1., 1., 1.],\n        [1., 1., 1., 1.],\n        [1., 1., 1., 1.]])"
     },
     "execution_count": 15,
     "metadata": {},
     "output_type": "execute_result"
    }
   ],
   "source": [
    "torch.ones(3,4)"
   ],
   "metadata": {
    "collapsed": false,
    "ExecuteTime": {
     "end_time": "2024-03-23T09:42:33.624033949Z",
     "start_time": "2024-03-23T09:42:33.573520282Z"
    }
   },
   "id": "5b3f38243a8cf015"
  },
  {
   "cell_type": "code",
   "execution_count": 17,
   "outputs": [
    {
     "data": {
      "text/plain": "tensor([[ 0.5994, -0.3236,  2.0871,  0.1323],\n        [ 0.2190, -0.5079,  0.4488,  0.8035],\n        [-0.3908, -0.9105,  0.0432,  0.0062]])"
     },
     "execution_count": 17,
     "metadata": {},
     "output_type": "execute_result"
    }
   ],
   "source": [
    "a = torch.randn(3,4)\n",
    "a"
   ],
   "metadata": {
    "collapsed": false,
    "ExecuteTime": {
     "end_time": "2024-03-23T09:42:52.660086893Z",
     "start_time": "2024-03-23T09:42:52.652709444Z"
    }
   },
   "id": "69780d7e2ecf0216"
  },
  {
   "cell_type": "code",
   "execution_count": 18,
   "outputs": [
    {
     "data": {
      "text/plain": "tensor([ 0.5994, -0.3236,  2.0871,  0.1323,  0.2190, -0.5079,  0.4488,  0.8035,\n        -0.3908, -0.9105,  0.0432,  0.0062])"
     },
     "execution_count": 18,
     "metadata": {},
     "output_type": "execute_result"
    }
   ],
   "source": [
    "A= a.reshape(12)\n",
    "A"
   ],
   "metadata": {
    "collapsed": false,
    "ExecuteTime": {
     "end_time": "2024-03-23T09:43:00.440747134Z",
     "start_time": "2024-03-23T09:43:00.431875879Z"
    }
   },
   "id": "380ea9af120a7e8f"
  },
  {
   "cell_type": "code",
   "execution_count": 19,
   "outputs": [
    {
     "data": {
      "text/plain": "tensor([[ 0.,  1.,  2.,  3.],\n        [ 4.,  5.,  6.,  7.],\n        [ 8.,  9., 10., 11.]])"
     },
     "execution_count": 19,
     "metadata": {},
     "output_type": "execute_result"
    }
   ],
   "source": [
    "X"
   ],
   "metadata": {
    "collapsed": false,
    "ExecuteTime": {
     "end_time": "2024-03-23T09:43:53.068390502Z",
     "start_time": "2024-03-23T09:43:53.047776469Z"
    }
   },
   "id": "a6cd83ce1713d96c"
  },
  {
   "cell_type": "code",
   "execution_count": 20,
   "outputs": [
    {
     "data": {
      "text/plain": "tensor([ 8.,  9., 10., 11.])"
     },
     "execution_count": 20,
     "metadata": {},
     "output_type": "execute_result"
    }
   ],
   "source": [
    "X[-1]"
   ],
   "metadata": {
    "collapsed": false,
    "ExecuteTime": {
     "end_time": "2024-03-23T09:43:57.401937453Z",
     "start_time": "2024-03-23T09:43:57.385785106Z"
    }
   },
   "id": "2831750d7e2cac7b"
  },
  {
   "cell_type": "code",
   "execution_count": 21,
   "outputs": [
    {
     "data": {
      "text/plain": "tensor([[ 4.,  5.,  6.,  7.],\n        [ 8.,  9., 10., 11.]])"
     },
     "execution_count": 21,
     "metadata": {},
     "output_type": "execute_result"
    }
   ],
   "source": [
    "X[1:3]"
   ],
   "metadata": {
    "collapsed": false,
    "ExecuteTime": {
     "end_time": "2024-03-23T09:44:02.920234556Z",
     "start_time": "2024-03-23T09:44:02.877325289Z"
    }
   },
   "id": "45ef7858d8101345"
  },
  {
   "cell_type": "code",
   "execution_count": 22,
   "outputs": [
    {
     "data": {
      "text/plain": "tensor([0., 1., 2., 3.])"
     },
     "execution_count": 22,
     "metadata": {},
     "output_type": "execute_result"
    }
   ],
   "source": [
    "X[0]"
   ],
   "metadata": {
    "collapsed": false,
    "ExecuteTime": {
     "end_time": "2024-03-23T09:44:16.013524714Z",
     "start_time": "2024-03-23T09:44:16.006838545Z"
    }
   },
   "id": "602957967b2d5c48"
  },
  {
   "cell_type": "code",
   "execution_count": 23,
   "outputs": [
    {
     "data": {
      "text/plain": "tensor([], size=(0, 4))"
     },
     "execution_count": 23,
     "metadata": {},
     "output_type": "execute_result"
    }
   ],
   "source": [
    "X[1:1]"
   ],
   "metadata": {
    "collapsed": false,
    "ExecuteTime": {
     "end_time": "2024-03-23T09:44:32.285385959Z",
     "start_time": "2024-03-23T09:44:32.279946088Z"
    }
   },
   "id": "c2a468943f5c8104"
  },
  {
   "cell_type": "code",
   "execution_count": 24,
   "outputs": [
    {
     "data": {
      "text/plain": "tensor([[4., 5., 6., 7.]])"
     },
     "execution_count": 24,
     "metadata": {},
     "output_type": "execute_result"
    }
   ],
   "source": [
    "X[1:2]"
   ],
   "metadata": {
    "collapsed": false,
    "ExecuteTime": {
     "end_time": "2024-03-23T09:44:39.812870914Z",
     "start_time": "2024-03-23T09:44:39.797888785Z"
    }
   },
   "id": "72e0079bfc1da0af"
  },
  {
   "cell_type": "code",
   "execution_count": 25,
   "outputs": [
    {
     "data": {
      "text/plain": "tensor([[ 4.,  5.,  6.,  7.],\n        [ 8.,  9., 10., 11.]])"
     },
     "execution_count": 25,
     "metadata": {},
     "output_type": "execute_result"
    }
   ],
   "source": [
    "X[1:]"
   ],
   "metadata": {
    "collapsed": false,
    "ExecuteTime": {
     "end_time": "2024-03-23T09:44:49.546803135Z",
     "start_time": "2024-03-23T09:44:49.540313620Z"
    }
   },
   "id": "9033b7163fc7a0e8"
  },
  {
   "cell_type": "code",
   "execution_count": 26,
   "outputs": [
    {
     "data": {
      "text/plain": "tensor([[0., 1., 2., 3.],\n        [4., 5., 6., 7.]])"
     },
     "execution_count": 26,
     "metadata": {},
     "output_type": "execute_result"
    }
   ],
   "source": [
    "X[:2]"
   ],
   "metadata": {
    "collapsed": false,
    "ExecuteTime": {
     "end_time": "2024-03-23T09:44:55.351093789Z",
     "start_time": "2024-03-23T09:44:55.341029064Z"
    }
   },
   "id": "19972eefd6a50478"
  },
  {
   "cell_type": "code",
   "execution_count": 27,
   "outputs": [
    {
     "data": {
      "text/plain": "tensor([[ 0.,  1.,  2.,  3.],\n        [ 4.,  5.,  6.,  7.],\n        [ 8.,  9., 10., 11.]])"
     },
     "execution_count": 27,
     "metadata": {},
     "output_type": "execute_result"
    }
   ],
   "source": [
    "X"
   ],
   "metadata": {
    "collapsed": false,
    "ExecuteTime": {
     "end_time": "2024-03-23T09:45:16.935873807Z",
     "start_time": "2024-03-23T09:45:16.895425236Z"
    }
   },
   "id": "70edc29b432015ec"
  },
  {
   "cell_type": "code",
   "execution_count": 28,
   "outputs": [
    {
     "data": {
      "text/plain": "tensor([[ 0.,  1.,  2.,  3.],\n        [ 4.,  5., 17.,  7.],\n        [ 8.,  9., 10., 11.]])"
     },
     "execution_count": 28,
     "metadata": {},
     "output_type": "execute_result"
    }
   ],
   "source": [
    "X[1,2] = 17\n",
    "X"
   ],
   "metadata": {
    "collapsed": false,
    "ExecuteTime": {
     "end_time": "2024-03-23T09:45:26.251490623Z",
     "start_time": "2024-03-23T09:45:26.240503623Z"
    }
   },
   "id": "1196f72aaaa50eee"
  },
  {
   "cell_type": "code",
   "execution_count": 29,
   "outputs": [
    {
     "data": {
      "text/plain": "tensor([[ 0.,  1.,  2.,  3.],\n        [ 4.,  5., 17.,  7.],\n        [ 8.,  9., 10., 11.]])"
     },
     "execution_count": 29,
     "metadata": {},
     "output_type": "execute_result"
    }
   ],
   "source": [
    "Y=X\n",
    "Y"
   ],
   "metadata": {
    "collapsed": false,
    "ExecuteTime": {
     "end_time": "2024-03-23T09:46:20.488026711Z",
     "start_time": "2024-03-23T09:46:20.446910259Z"
    }
   },
   "id": "ea1b868878be5eb9"
  },
  {
   "cell_type": "code",
   "execution_count": 30,
   "outputs": [
    {
     "data": {
      "text/plain": "tensor([[12., 12., 12., 12.],\n        [12., 12., 12., 12.],\n        [ 8.,  9., 10., 11.]])"
     },
     "execution_count": 30,
     "metadata": {},
     "output_type": "execute_result"
    }
   ],
   "source": [
    "X[:2,:] = 12\n",
    "X"
   ],
   "metadata": {
    "collapsed": false,
    "ExecuteTime": {
     "end_time": "2024-03-23T09:46:29.897430588Z",
     "start_time": "2024-03-23T09:46:29.889275162Z"
    }
   },
   "id": "c977527387faf682"
  },
  {
   "cell_type": "code",
   "execution_count": 31,
   "outputs": [
    {
     "data": {
      "text/plain": "tensor([[11., 11., 12., 12.],\n        [11., 11., 12., 12.],\n        [11., 11., 10., 11.]])"
     },
     "execution_count": 31,
     "metadata": {},
     "output_type": "execute_result"
    }
   ],
   "source": [
    "Y[:,:2] = 11\n",
    "Y"
   ],
   "metadata": {
    "collapsed": false,
    "ExecuteTime": {
     "end_time": "2024-03-23T09:46:51.224198356Z",
     "start_time": "2024-03-23T09:46:51.181715070Z"
    }
   },
   "id": "ee48ee8017480e23"
  },
  {
   "cell_type": "code",
   "execution_count": 32,
   "outputs": [
    {
     "data": {
      "text/plain": "tensor([[11., 11., 12., 12.],\n        [11., 11., 12., 12.],\n        [11., 11., 10., 11.]])"
     },
     "execution_count": 32,
     "metadata": {},
     "output_type": "execute_result"
    }
   ],
   "source": [
    "X"
   ],
   "metadata": {
    "collapsed": false,
    "ExecuteTime": {
     "end_time": "2024-03-23T09:47:11.600524885Z",
     "start_time": "2024-03-23T09:47:11.552493400Z"
    }
   },
   "id": "31b19fcc98bdcd2a"
  },
  {
   "cell_type": "code",
   "execution_count": 33,
   "outputs": [
    {
     "data": {
      "text/plain": "tensor([[11., 11., 12., 12.],\n        [11., 11., 12., 12.],\n        [11., 11., 10., 11.]])"
     },
     "execution_count": 33,
     "metadata": {},
     "output_type": "execute_result"
    }
   ],
   "source": [
    "Y"
   ],
   "metadata": {
    "collapsed": false,
    "ExecuteTime": {
     "end_time": "2024-03-23T09:47:14.514585288Z",
     "start_time": "2024-03-23T09:47:14.508255788Z"
    }
   },
   "id": "79e5a6e04eb1c52d"
  },
  {
   "cell_type": "code",
   "execution_count": 34,
   "outputs": [
    {
     "data": {
      "text/plain": "tensor([11., 11., 12., 12., 11., 11., 12., 12., 11., 11., 10., 11.])"
     },
     "execution_count": 34,
     "metadata": {},
     "output_type": "execute_result"
    }
   ],
   "source": [
    "x"
   ],
   "metadata": {
    "collapsed": false,
    "ExecuteTime": {
     "end_time": "2024-03-23T09:47:31.709741149Z",
     "start_time": "2024-03-23T09:47:31.701114165Z"
    }
   },
   "id": "c87bdc1ae903f50d"
  },
  {
   "cell_type": "code",
   "execution_count": 35,
   "outputs": [
    {
     "data": {
      "text/plain": "tensor([ 59874.1406,  59874.1406, 162754.7969, 162754.7969,  59874.1406,\n         59874.1406, 162754.7969, 162754.7969,  59874.1406,  59874.1406,\n         22026.4648,  59874.1406])"
     },
     "execution_count": 35,
     "metadata": {},
     "output_type": "execute_result"
    }
   ],
   "source": [
    "torch.exp(x)"
   ],
   "metadata": {
    "collapsed": false,
    "ExecuteTime": {
     "end_time": "2024-03-23T09:47:38.084105481Z",
     "start_time": "2024-03-23T09:47:38.042060461Z"
    }
   },
   "id": "2e334f794220688"
  },
  {
   "cell_type": "code",
   "execution_count": 36,
   "outputs": [
    {
     "data": {
      "text/plain": "(tensor([ 3., -1.,  7.,  6.]),\n tensor([-1.,  5.,  1.,  4.]),\n tensor([ 2., -6., 12.,  5.]),\n tensor([ 0.5000, -0.6667,  1.3333,  5.0000]))"
     },
     "execution_count": 36,
     "metadata": {},
     "output_type": "execute_result"
    }
   ],
   "source": [
    "x = torch.tensor([1.0,2,4,5])\n",
    "y = torch.tensor([2,-3,3,1])\n",
    "x+y, x-y, x*y, x/y"
   ],
   "metadata": {
    "collapsed": false,
    "ExecuteTime": {
     "end_time": "2024-03-23T09:48:35.907557525Z",
     "start_time": "2024-03-23T09:48:35.896671847Z"
    }
   },
   "id": "e38ce10bb72737bf"
  },
  {
   "cell_type": "code",
   "execution_count": 39,
   "outputs": [
    {
     "data": {
      "text/plain": "(tensor([[ 0,  1,  2,  3],\n         [ 4,  5,  6,  7],\n         [ 8,  9, 10, 11]], dtype=torch.int32),\n tensor([[ 0.2870, -0.4672,  1.4019, -0.5033],\n         [-0.2660, -1.2060,  1.1764,  0.8578],\n         [ 1.2653, -0.2343, -0.5046, -1.1464]]))"
     },
     "execution_count": 39,
     "metadata": {},
     "output_type": "execute_result"
    }
   ],
   "source": [
    "X= torch.arange(12, dtype=torch.int32).reshape(3,4)\n",
    "Y = torch.randn(3,4)\n",
    "X,Y"
   ],
   "metadata": {
    "collapsed": false,
    "ExecuteTime": {
     "end_time": "2024-03-23T09:57:55.905344788Z",
     "start_time": "2024-03-23T09:57:55.896058698Z"
    }
   },
   "id": "bbcb853af654a43e"
  },
  {
   "cell_type": "code",
   "execution_count": 40,
   "outputs": [
    {
     "data": {
      "text/plain": "(tensor([[ 0.0000,  1.0000,  2.0000,  3.0000],\n         [ 4.0000,  5.0000,  6.0000,  7.0000],\n         [ 8.0000,  9.0000, 10.0000, 11.0000],\n         [ 0.2870, -0.4672,  1.4019, -0.5033],\n         [-0.2660, -1.2060,  1.1764,  0.8578],\n         [ 1.2653, -0.2343, -0.5046, -1.1464]]),\n tensor([[ 0.0000,  1.0000,  2.0000,  3.0000,  0.2870, -0.4672,  1.4019, -0.5033],\n         [ 4.0000,  5.0000,  6.0000,  7.0000, -0.2660, -1.2060,  1.1764,  0.8578],\n         [ 8.0000,  9.0000, 10.0000, 11.0000,  1.2653, -0.2343, -0.5046, -1.1464]]))"
     },
     "execution_count": 40,
     "metadata": {},
     "output_type": "execute_result"
    }
   ],
   "source": [
    "torch.cat((X,Y), dim=0), torch.cat((X,Y), dim=1)"
   ],
   "metadata": {
    "collapsed": false,
    "ExecuteTime": {
     "end_time": "2024-03-23T09:59:20.636141199Z",
     "start_time": "2024-03-23T09:59:20.592455032Z"
    }
   },
   "id": "15740840c5aa8094"
  },
  {
   "cell_type": "code",
   "execution_count": 41,
   "outputs": [
    {
     "data": {
      "text/plain": "tensor([[False, False, False, False],\n        [False, False, False, False],\n        [False, False, False, False]])"
     },
     "execution_count": 41,
     "metadata": {},
     "output_type": "execute_result"
    }
   ],
   "source": [
    "X==Y"
   ],
   "metadata": {
    "collapsed": false,
    "ExecuteTime": {
     "end_time": "2024-03-23T09:59:39.663990650Z",
     "start_time": "2024-03-23T09:59:39.618485473Z"
    }
   },
   "id": "8c3cc8972d6e66e2"
  },
  {
   "cell_type": "markdown",
   "source": [
    "Broadcasting"
   ],
   "metadata": {
    "collapsed": false
   },
   "id": "2498d3f63522f73e"
  },
  {
   "cell_type": "code",
   "execution_count": 42,
   "outputs": [
    {
     "data": {
      "text/plain": "(tensor([[0.],\n         [1.],\n         [2.]]),\n tensor([[0., 1.]]))"
     },
     "execution_count": 42,
     "metadata": {},
     "output_type": "execute_result"
    }
   ],
   "source": [
    "a = torch.arange(3, dtype=torch.float32).reshape(3,1)\n",
    "b = torch.arange(2, dtype=torch.float32).reshape(1,2)\n",
    "a,b"
   ],
   "metadata": {
    "collapsed": false,
    "ExecuteTime": {
     "end_time": "2024-03-23T10:03:19.704203309Z",
     "start_time": "2024-03-23T10:03:19.660903778Z"
    }
   },
   "id": "7d2f9ad7433b57ea"
  },
  {
   "cell_type": "code",
   "execution_count": 44,
   "outputs": [
    {
     "data": {
      "text/plain": "(tensor([[0., 1.],\n         [1., 2.],\n         [2., 3.]]),\n tensor([[0., 0.],\n         [0., 1.],\n         [0., 2.]]))"
     },
     "execution_count": 44,
     "metadata": {},
     "output_type": "execute_result"
    }
   ],
   "source": [
    "a+b,a*b"
   ],
   "metadata": {
    "collapsed": false,
    "ExecuteTime": {
     "end_time": "2024-03-23T10:03:35.203903182Z",
     "start_time": "2024-03-23T10:03:35.197205001Z"
    }
   },
   "id": "b795b766dad9d1c0"
  },
  {
   "cell_type": "code",
   "execution_count": null,
   "outputs": [],
   "source": [],
   "metadata": {
    "collapsed": false
   },
   "id": "4c3e473f39bf639a"
  }
 ],
 "metadata": {
  "kernelspec": {
   "display_name": "Python 3",
   "language": "python",
   "name": "python3"
  },
  "language_info": {
   "codemirror_mode": {
    "name": "ipython",
    "version": 2
   },
   "file_extension": ".py",
   "mimetype": "text/x-python",
   "name": "python",
   "nbconvert_exporter": "python",
   "pygments_lexer": "ipython2",
   "version": "2.7.6"
  }
 },
 "nbformat": 4,
 "nbformat_minor": 5
}
